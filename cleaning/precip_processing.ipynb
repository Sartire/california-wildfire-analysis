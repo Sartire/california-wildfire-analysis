{
 "cells": [
  {
   "cell_type": "code",
   "execution_count": 50,
   "metadata": {},
   "outputs": [],
   "source": [
    "import pandas as pd\n",
    "import numpy as np\n",
    "import os\n",
    "from itertools import product\n",
    "import datetime"
   ]
  },
  {
   "cell_type": "code",
   "execution_count": 33,
   "metadata": {},
   "outputs": [
    {
     "name": "stderr",
     "output_type": "stream",
     "text": [
      "C:\\ProgramData\\Anaconda3\\lib\\site-packages\\IPython\\core\\interactiveshell.py:3146: DtypeWarning: Columns (2,3,4) have mixed types.Specify dtype option on import or set low_memory=False.\n",
      "  has_raised = await self.run_ast_nodes(code_ast.body, cell_name,\n"
     ]
    }
   ],
   "source": [
    "## Empty val for measurement flags\n",
    "## indicates no problem with data\n",
    "def drop_flags(obj):\n",
    "    return str(obj) == ' '\n",
    "\n",
    "## Process one at a time for memory concerns\n",
    "files = os.listdir('../data/precip_raw')\n",
    "for file in files:\n",
    "    df = pd.read_csv('../data/precip_raw/' + file)\n",
    "    # convert/extract date information\n",
    "    df['pdate'] = pd.to_datetime( list(map(str,df['DATE'])), format = '%Y%m%d %H:%M')\n",
    "    df['year'] = df['pdate'].dt.year\n",
    "    df['month'] = df['pdate'].dt.month\n",
    "    df['day'] = df['pdate'].dt.day\n",
    "    \n",
    "    # drop flagged rows\n",
    "    df = df[list(map(drop_flags, df['Measurement Flag']))]\n",
    "    # keep useful columns\n",
    "    df = df[['STATION', 'LATITUDE', 'LONGITUDE', 'HPCP', 'year', 'month', 'day']]\n",
    "    #aggregate to station-day total precipitation\n",
    "    agg = df.groupby(['STATION','LATITUDE','LONGITUDE','year','month','day']).sum()\n",
    "    #output\n",
    "    agg.to_csv('../data/precip_agg/' + file)\n",
    "\n",
    "\n",
    "#df.head()\n",
    "#df.shape"
   ]
  },
  {
   "cell_type": "code",
   "execution_count": 36,
   "metadata": {},
   "outputs": [
    {
     "data": {
      "text/plain": [
       "(195843, 7)"
      ]
     },
     "execution_count": 36,
     "metadata": {},
     "output_type": "execute_result"
    }
   ],
   "source": [
    "# Load aggregates.\n",
    "files = os.listdir('../data/precip_agg')\n",
    "df = pd.DataFrame()\n",
    "for file in files:\n",
    "    current_data = pd.read_csv(\"../data/precip_agg/\"+file)\n",
    "    df = pd.concat([df, current_data])\n",
    "\n",
    "df.shape\n"
   ]
  },
  {
   "cell_type": "code",
   "execution_count": 41,
   "metadata": {},
   "outputs": [
    {
     "name": "stdout",
     "output_type": "stream",
     "text": [
      "(263, 3)\n"
     ]
    }
   ],
   "source": [
    "## get distinct stations\n",
    "stations = df[['STATION','LATITUDE','LONGITUDE']].drop_duplicates('STATION')\n",
    "#print(stations.shape)\n",
    "#stations.head()\n",
    "\n",
    "## export for FIPS codes to be attached\n",
    "stations.to_csv('../data/station_coords.csv')"
   ]
  },
  {
   "cell_type": "code",
   "execution_count": 47,
   "metadata": {},
   "outputs": [],
   "source": [
    "dates = pd.date_range('1992-01-01', '2014-01-01')\n",
    "prod = product(stations['STATION'], dates)\n",
    "timeframe = pd.DataFrame([list(p) for p in prod],\n",
    "                        columns = ['STATION', 'date'])"
   ]
  },
  {
   "cell_type": "code",
   "execution_count": 53,
   "metadata": {},
   "outputs": [],
   "source": [
    "#timeframe.head()\n",
    "#df.head()\n",
    "\n",
    "\n",
    "dtvec = np.vectorize(datetime.datetime)\n",
    "\n",
    "df['date'] = pd.to_datetime(dtvec(df.year, df.month, df.day))"
   ]
  },
  {
   "cell_type": "code",
   "execution_count": 62,
   "metadata": {},
   "outputs": [],
   "source": [
    "compleat = pd.merge(df, timeframe, on = ['STATION', 'date'], how = 'outer')\n",
    "compleat = compleat.sort_values(['STATION','date'])\n",
    "compleat['HPCP'] = compleat['HPCP'].fillna(0)\n",
    "compleat = compleat[['STATION', 'date', 'HPCP']]"
   ]
  },
  {
   "cell_type": "code",
   "execution_count": 66,
   "metadata": {},
   "outputs": [
    {
     "data": {
      "text/html": [
       "<div>\n",
       "<style scoped>\n",
       "    .dataframe tbody tr th:only-of-type {\n",
       "        vertical-align: middle;\n",
       "    }\n",
       "\n",
       "    .dataframe tbody tr th {\n",
       "        vertical-align: top;\n",
       "    }\n",
       "\n",
       "    .dataframe thead th {\n",
       "        text-align: right;\n",
       "    }\n",
       "</style>\n",
       "<table border=\"1\" class=\"dataframe\">\n",
       "  <thead>\n",
       "    <tr style=\"text-align: right;\">\n",
       "      <th></th>\n",
       "      <th>STATION</th>\n",
       "      <th>STCT_FIPS</th>\n",
       "    </tr>\n",
       "  </thead>\n",
       "  <tbody>\n",
       "    <tr>\n",
       "      <th>0</th>\n",
       "      <td>COOP:040014</td>\n",
       "      <td>6037</td>\n",
       "    </tr>\n",
       "    <tr>\n",
       "      <th>1</th>\n",
       "      <td>COOP:040161</td>\n",
       "      <td>6049</td>\n",
       "    </tr>\n",
       "    <tr>\n",
       "      <th>2</th>\n",
       "      <td>COOP:040212</td>\n",
       "      <td>6055</td>\n",
       "    </tr>\n",
       "    <tr>\n",
       "      <th>3</th>\n",
       "      <td>COOP:040322</td>\n",
       "      <td>6053</td>\n",
       "    </tr>\n",
       "    <tr>\n",
       "      <th>4</th>\n",
       "      <td>COOP:040368</td>\n",
       "      <td>6055</td>\n",
       "    </tr>\n",
       "  </tbody>\n",
       "</table>\n",
       "</div>"
      ],
      "text/plain": [
       "       STATION  STCT_FIPS\n",
       "0  COOP:040014       6037\n",
       "1  COOP:040161       6049\n",
       "2  COOP:040212       6055\n",
       "3  COOP:040322       6053\n",
       "4  COOP:040368       6055"
      ]
     },
     "execution_count": 66,
     "metadata": {},
     "output_type": "execute_result"
    }
   ],
   "source": [
    "#compleat.head()\n",
    "\n",
    "geo_stations = pd.read_csv('../data/stations_block.csv')\n",
    "geo_stations = geo_stations[['STATION', 'STCT_FIPS']]\n",
    "geo_stations.head()"
   ]
  },
  {
   "cell_type": "code",
   "execution_count": 76,
   "metadata": {},
   "outputs": [
    {
     "data": {
      "text/html": [
       "<div>\n",
       "<style scoped>\n",
       "    .dataframe tbody tr th:only-of-type {\n",
       "        vertical-align: middle;\n",
       "    }\n",
       "\n",
       "    .dataframe tbody tr th {\n",
       "        vertical-align: top;\n",
       "    }\n",
       "\n",
       "    .dataframe thead th {\n",
       "        text-align: right;\n",
       "    }\n",
       "</style>\n",
       "<table border=\"1\" class=\"dataframe\">\n",
       "  <thead>\n",
       "    <tr style=\"text-align: right;\">\n",
       "      <th></th>\n",
       "      <th></th>\n",
       "      <th>station_sum</th>\n",
       "      <th>station_mean</th>\n",
       "    </tr>\n",
       "    <tr>\n",
       "      <th>STCT_FIPS</th>\n",
       "      <th>date</th>\n",
       "      <th></th>\n",
       "      <th></th>\n",
       "    </tr>\n",
       "  </thead>\n",
       "  <tbody>\n",
       "    <tr>\n",
       "      <th rowspan=\"5\" valign=\"top\">6001</th>\n",
       "      <th>1992-01-01</th>\n",
       "      <td>0.0</td>\n",
       "      <td>0.0</td>\n",
       "    </tr>\n",
       "    <tr>\n",
       "      <th>1992-01-02</th>\n",
       "      <td>0.0</td>\n",
       "      <td>0.0</td>\n",
       "    </tr>\n",
       "    <tr>\n",
       "      <th>1992-01-03</th>\n",
       "      <td>0.0</td>\n",
       "      <td>0.0</td>\n",
       "    </tr>\n",
       "    <tr>\n",
       "      <th>1992-01-04</th>\n",
       "      <td>0.0</td>\n",
       "      <td>0.0</td>\n",
       "    </tr>\n",
       "    <tr>\n",
       "      <th>1992-01-05</th>\n",
       "      <td>0.0</td>\n",
       "      <td>0.0</td>\n",
       "    </tr>\n",
       "  </tbody>\n",
       "</table>\n",
       "</div>"
      ],
      "text/plain": [
       "                      station_sum  station_mean\n",
       "STCT_FIPS date                                 \n",
       "6001      1992-01-01          0.0           0.0\n",
       "          1992-01-02          0.0           0.0\n",
       "          1992-01-03          0.0           0.0\n",
       "          1992-01-04          0.0           0.0\n",
       "          1992-01-05          0.0           0.0"
      ]
     },
     "execution_count": 76,
     "metadata": {},
     "output_type": "execute_result"
    }
   ],
   "source": [
    "## Merge with FIPS codes and aggregate to FIPS-day\n",
    "\n",
    "byfips = pd.merge(compleat, geo_stations, on = 'STATION', how = 'left')\n",
    "\n",
    "# consider both sum and mean of all stations in FIPS\n",
    "agg_series = byfips.groupby(['STCT_FIPS', 'date']).sum().rename(columns={'HPCP':'station_sum'})\n",
    "agg_series['station_mean'] = byfips.groupby(['STCT_FIPS', 'date']).mean()['HPCP']\n",
    "\n",
    "agg_series.head()"
   ]
  },
  {
   "cell_type": "code",
   "execution_count": 77,
   "metadata": {},
   "outputs": [
    {
     "data": {
      "text/html": [
       "<div>\n",
       "<style scoped>\n",
       "    .dataframe tbody tr th:only-of-type {\n",
       "        vertical-align: middle;\n",
       "    }\n",
       "\n",
       "    .dataframe tbody tr th {\n",
       "        vertical-align: top;\n",
       "    }\n",
       "\n",
       "    .dataframe thead th {\n",
       "        text-align: right;\n",
       "    }\n",
       "</style>\n",
       "<table border=\"1\" class=\"dataframe\">\n",
       "  <thead>\n",
       "    <tr style=\"text-align: right;\">\n",
       "      <th></th>\n",
       "      <th>date</th>\n",
       "      <th>station_sum</th>\n",
       "      <th>station_mean</th>\n",
       "      <th>past30_ss_sum</th>\n",
       "      <th>past30_sm_sum</th>\n",
       "      <th>year</th>\n",
       "      <th>month</th>\n",
       "      <th>day</th>\n",
       "    </tr>\n",
       "    <tr>\n",
       "      <th>STCT_FIPS</th>\n",
       "      <th></th>\n",
       "      <th></th>\n",
       "      <th></th>\n",
       "      <th></th>\n",
       "      <th></th>\n",
       "      <th></th>\n",
       "      <th></th>\n",
       "      <th></th>\n",
       "    </tr>\n",
       "  </thead>\n",
       "  <tbody>\n",
       "    <tr>\n",
       "      <th>6001</th>\n",
       "      <td>1992-01-01</td>\n",
       "      <td>0.0</td>\n",
       "      <td>0.0</td>\n",
       "      <td>NaN</td>\n",
       "      <td>NaN</td>\n",
       "      <td>1992</td>\n",
       "      <td>1</td>\n",
       "      <td>1</td>\n",
       "    </tr>\n",
       "    <tr>\n",
       "      <th>6001</th>\n",
       "      <td>1992-01-02</td>\n",
       "      <td>0.0</td>\n",
       "      <td>0.0</td>\n",
       "      <td>NaN</td>\n",
       "      <td>NaN</td>\n",
       "      <td>1992</td>\n",
       "      <td>1</td>\n",
       "      <td>2</td>\n",
       "    </tr>\n",
       "    <tr>\n",
       "      <th>6001</th>\n",
       "      <td>1992-01-03</td>\n",
       "      <td>0.0</td>\n",
       "      <td>0.0</td>\n",
       "      <td>NaN</td>\n",
       "      <td>NaN</td>\n",
       "      <td>1992</td>\n",
       "      <td>1</td>\n",
       "      <td>3</td>\n",
       "    </tr>\n",
       "    <tr>\n",
       "      <th>6001</th>\n",
       "      <td>1992-01-04</td>\n",
       "      <td>0.0</td>\n",
       "      <td>0.0</td>\n",
       "      <td>NaN</td>\n",
       "      <td>NaN</td>\n",
       "      <td>1992</td>\n",
       "      <td>1</td>\n",
       "      <td>4</td>\n",
       "    </tr>\n",
       "    <tr>\n",
       "      <th>6001</th>\n",
       "      <td>1992-01-05</td>\n",
       "      <td>0.0</td>\n",
       "      <td>0.0</td>\n",
       "      <td>NaN</td>\n",
       "      <td>NaN</td>\n",
       "      <td>1992</td>\n",
       "      <td>1</td>\n",
       "      <td>5</td>\n",
       "    </tr>\n",
       "  </tbody>\n",
       "</table>\n",
       "</div>"
      ],
      "text/plain": [
       "                date  station_sum  station_mean  past30_ss_sum  past30_sm_sum  \\\n",
       "STCT_FIPS                                                                       \n",
       "6001      1992-01-01          0.0           0.0            NaN            NaN   \n",
       "6001      1992-01-02          0.0           0.0            NaN            NaN   \n",
       "6001      1992-01-03          0.0           0.0            NaN            NaN   \n",
       "6001      1992-01-04          0.0           0.0            NaN            NaN   \n",
       "6001      1992-01-05          0.0           0.0            NaN            NaN   \n",
       "\n",
       "           year  month  day  \n",
       "STCT_FIPS                    \n",
       "6001       1992      1    1  \n",
       "6001       1992      1    2  \n",
       "6001       1992      1    3  \n",
       "6001       1992      1    4  \n",
       "6001       1992      1    5  "
      ]
     },
     "execution_count": 77,
     "metadata": {},
     "output_type": "execute_result"
    }
   ],
   "source": [
    "## Create rolling time series\n",
    "\n",
    "agg_series['past30_ss_sum'] = agg_series['station_sum'].rolling(30).sum()\n",
    "agg_series['past30_sm_sum'] = agg_series['station_mean'].rolling(30).sum()\n",
    "\n",
    "agg_series.reset_index('date', inplace = True)\n",
    "\n",
    "agg_series['year'] = agg_series['date'].dt.year\n",
    "agg_series['month'] = agg_series['date'].dt.month\n",
    "agg_series['day'] = agg_series['date'].dt.day\n",
    "\n",
    "agg_series.head()\n"
   ]
  },
  {
   "cell_type": "code",
   "execution_count": 78,
   "metadata": {},
   "outputs": [],
   "source": [
    "agg_series.to_csv('../data/precip_agg_series.csv')"
   ]
  }
 ],
 "metadata": {
  "kernelspec": {
   "display_name": "Python 3",
   "language": "python",
   "name": "python3"
  },
  "language_info": {
   "codemirror_mode": {
    "name": "ipython",
    "version": 3
   },
   "file_extension": ".py",
   "mimetype": "text/x-python",
   "name": "python",
   "nbconvert_exporter": "python",
   "pygments_lexer": "ipython3",
   "version": "3.8.5"
  }
 },
 "nbformat": 4,
 "nbformat_minor": 4
}
