{
 "metadata": {
  "language_info": {
   "codemirror_mode": {
    "name": "ipython",
    "version": 3
   },
   "file_extension": ".py",
   "mimetype": "text/x-python",
   "name": "python",
   "nbconvert_exporter": "python",
   "pygments_lexer": "ipython3",
   "version": "3.7.9"
  },
  "orig_nbformat": 2,
  "kernelspec": {
   "name": "python379jvsc74a57bd01efdb9bcbd5d57a1534fada5d52178944b1c1f992f2550b0c1c534ebb8f09268",
   "display_name": "Python 3.7.9 64-bit ('pythonenv': conda)"
  }
 },
 "nbformat": 4,
 "nbformat_minor": 2,
 "cells": [
  {
   "cell_type": "code",
   "execution_count": 1,
   "metadata": {},
   "outputs": [],
   "source": [
    "import pandas as pd\n",
    "import geopandas as gpd\n",
    "import datetime as dt\n",
    "import numpy as np\n",
    "import sqlite3"
   ]
  },
  {
   "source": [
    "## Import The Wildfire Dataset\n",
    "- Import all wildfires from California from the SQLite database, download [here](https://www.kaggle.com/rtatman/188-million-us-wildfires)\n",
    "- Check for missing data\n",
    "- Identify data columns worth keeping"
   ],
   "cell_type": "markdown",
   "metadata": {}
  },
  {
   "cell_type": "code",
   "execution_count": 2,
   "metadata": {},
   "outputs": [
    {
     "output_type": "execute_result",
     "data": {
      "text/plain": [
       "   OBJECTID  FOD_ID      FPA_ID SOURCE_SYSTEM_TYPE SOURCE_SYSTEM  \\\n",
       "0         1       1  FS-1418826                FED   FS-FIRESTAT   \n",
       "1         2       2  FS-1418827                FED   FS-FIRESTAT   \n",
       "2         3       3  FS-1418835                FED   FS-FIRESTAT   \n",
       "3         4       4  FS-1418845                FED   FS-FIRESTAT   \n",
       "4         5       5  FS-1418847                FED   FS-FIRESTAT   \n",
       "\n",
       "  NWCG_REPORTING_AGENCY NWCG_REPORTING_UNIT_ID  NWCG_REPORTING_UNIT_NAME  \\\n",
       "0                    FS                USCAPNF    Plumas National Forest   \n",
       "1                    FS                USCAENF  Eldorado National Forest   \n",
       "2                    FS                USCAENF  Eldorado National Forest   \n",
       "3                    FS                USCAENF  Eldorado National Forest   \n",
       "4                    FS                USCAENF  Eldorado National Forest   \n",
       "\n",
       "  SOURCE_REPORTING_UNIT SOURCE_REPORTING_UNIT_NAME  ... FIRE_SIZE_CLASS  \\\n",
       "0                  0511     Plumas National Forest  ...               A   \n",
       "1                  0503   Eldorado National Forest  ...               A   \n",
       "2                  0503   Eldorado National Forest  ...               A   \n",
       "3                  0503   Eldorado National Forest  ...               A   \n",
       "4                  0503   Eldorado National Forest  ...               A   \n",
       "\n",
       "    LATITUDE   LONGITUDE OWNER_CODE       OWNER_DESCR STATE COUNTY FIPS_CODE  \\\n",
       "0  40.036944 -121.005833        5.0              USFS    CA     63       063   \n",
       "1  38.933056 -120.404444        5.0              USFS    CA     61       061   \n",
       "2  38.984167 -120.735556       13.0  STATE OR PRIVATE    CA     17       017   \n",
       "3  38.559167 -119.913333        5.0              USFS    CA      3       003   \n",
       "4  38.559167 -119.933056        5.0              USFS    CA      3       003   \n",
       "\n",
       "   FIPS_NAME                                              Shape  \n",
       "0     Plumas  b'\\x00\\x01\\xad\\x10\\x00\\x00\\xe8d\\xc2\\x92_@^\\xc0...  \n",
       "1     Placer  b'\\x00\\x01\\xad\\x10\\x00\\x00T\\xb6\\xeej\\xe2\\x19^\\...  \n",
       "2  El Dorado  b'\\x00\\x01\\xad\\x10\\x00\\x00\\xd0\\xa5\\xa0W\\x13/^\\...  \n",
       "3     Alpine  b'\\x00\\x01\\xad\\x10\\x00\\x00\\x94\\xac\\xa3\\rt\\xfa]...  \n",
       "4     Alpine  b'\\x00\\x01\\xad\\x10\\x00\\x00@\\xe3\\xaa.\\xb7\\xfb]\\...  \n",
       "\n",
       "[5 rows x 39 columns]"
      ],
      "text/html": "<div>\n<style scoped>\n    .dataframe tbody tr th:only-of-type {\n        vertical-align: middle;\n    }\n\n    .dataframe tbody tr th {\n        vertical-align: top;\n    }\n\n    .dataframe thead th {\n        text-align: right;\n    }\n</style>\n<table border=\"1\" class=\"dataframe\">\n  <thead>\n    <tr style=\"text-align: right;\">\n      <th></th>\n      <th>OBJECTID</th>\n      <th>FOD_ID</th>\n      <th>FPA_ID</th>\n      <th>SOURCE_SYSTEM_TYPE</th>\n      <th>SOURCE_SYSTEM</th>\n      <th>NWCG_REPORTING_AGENCY</th>\n      <th>NWCG_REPORTING_UNIT_ID</th>\n      <th>NWCG_REPORTING_UNIT_NAME</th>\n      <th>SOURCE_REPORTING_UNIT</th>\n      <th>SOURCE_REPORTING_UNIT_NAME</th>\n      <th>...</th>\n      <th>FIRE_SIZE_CLASS</th>\n      <th>LATITUDE</th>\n      <th>LONGITUDE</th>\n      <th>OWNER_CODE</th>\n      <th>OWNER_DESCR</th>\n      <th>STATE</th>\n      <th>COUNTY</th>\n      <th>FIPS_CODE</th>\n      <th>FIPS_NAME</th>\n      <th>Shape</th>\n    </tr>\n  </thead>\n  <tbody>\n    <tr>\n      <th>0</th>\n      <td>1</td>\n      <td>1</td>\n      <td>FS-1418826</td>\n      <td>FED</td>\n      <td>FS-FIRESTAT</td>\n      <td>FS</td>\n      <td>USCAPNF</td>\n      <td>Plumas National Forest</td>\n      <td>0511</td>\n      <td>Plumas National Forest</td>\n      <td>...</td>\n      <td>A</td>\n      <td>40.036944</td>\n      <td>-121.005833</td>\n      <td>5.0</td>\n      <td>USFS</td>\n      <td>CA</td>\n      <td>63</td>\n      <td>063</td>\n      <td>Plumas</td>\n      <td>b'\\x00\\x01\\xad\\x10\\x00\\x00\\xe8d\\xc2\\x92_@^\\xc0...</td>\n    </tr>\n    <tr>\n      <th>1</th>\n      <td>2</td>\n      <td>2</td>\n      <td>FS-1418827</td>\n      <td>FED</td>\n      <td>FS-FIRESTAT</td>\n      <td>FS</td>\n      <td>USCAENF</td>\n      <td>Eldorado National Forest</td>\n      <td>0503</td>\n      <td>Eldorado National Forest</td>\n      <td>...</td>\n      <td>A</td>\n      <td>38.933056</td>\n      <td>-120.404444</td>\n      <td>5.0</td>\n      <td>USFS</td>\n      <td>CA</td>\n      <td>61</td>\n      <td>061</td>\n      <td>Placer</td>\n      <td>b'\\x00\\x01\\xad\\x10\\x00\\x00T\\xb6\\xeej\\xe2\\x19^\\...</td>\n    </tr>\n    <tr>\n      <th>2</th>\n      <td>3</td>\n      <td>3</td>\n      <td>FS-1418835</td>\n      <td>FED</td>\n      <td>FS-FIRESTAT</td>\n      <td>FS</td>\n      <td>USCAENF</td>\n      <td>Eldorado National Forest</td>\n      <td>0503</td>\n      <td>Eldorado National Forest</td>\n      <td>...</td>\n      <td>A</td>\n      <td>38.984167</td>\n      <td>-120.735556</td>\n      <td>13.0</td>\n      <td>STATE OR PRIVATE</td>\n      <td>CA</td>\n      <td>17</td>\n      <td>017</td>\n      <td>El Dorado</td>\n      <td>b'\\x00\\x01\\xad\\x10\\x00\\x00\\xd0\\xa5\\xa0W\\x13/^\\...</td>\n    </tr>\n    <tr>\n      <th>3</th>\n      <td>4</td>\n      <td>4</td>\n      <td>FS-1418845</td>\n      <td>FED</td>\n      <td>FS-FIRESTAT</td>\n      <td>FS</td>\n      <td>USCAENF</td>\n      <td>Eldorado National Forest</td>\n      <td>0503</td>\n      <td>Eldorado National Forest</td>\n      <td>...</td>\n      <td>A</td>\n      <td>38.559167</td>\n      <td>-119.913333</td>\n      <td>5.0</td>\n      <td>USFS</td>\n      <td>CA</td>\n      <td>3</td>\n      <td>003</td>\n      <td>Alpine</td>\n      <td>b'\\x00\\x01\\xad\\x10\\x00\\x00\\x94\\xac\\xa3\\rt\\xfa]...</td>\n    </tr>\n    <tr>\n      <th>4</th>\n      <td>5</td>\n      <td>5</td>\n      <td>FS-1418847</td>\n      <td>FED</td>\n      <td>FS-FIRESTAT</td>\n      <td>FS</td>\n      <td>USCAENF</td>\n      <td>Eldorado National Forest</td>\n      <td>0503</td>\n      <td>Eldorado National Forest</td>\n      <td>...</td>\n      <td>A</td>\n      <td>38.559167</td>\n      <td>-119.933056</td>\n      <td>5.0</td>\n      <td>USFS</td>\n      <td>CA</td>\n      <td>3</td>\n      <td>003</td>\n      <td>Alpine</td>\n      <td>b'\\x00\\x01\\xad\\x10\\x00\\x00@\\xe3\\xaa.\\xb7\\xfb]\\...</td>\n    </tr>\n  </tbody>\n</table>\n<p>5 rows × 39 columns</p>\n</div>"
     },
     "metadata": {},
     "execution_count": 2
    }
   ],
   "source": [
    "con = sqlite3.connect(\"FPA_FOD_20170508.sqlite\")\n",
    "fires = pd.read_sql_query('SELECT * FROM Fires WHERE STATE == \"CA\"', con)\n",
    "fires.head(5)"
   ]
  },
  {
   "source": [
    "## Inspect The Data\n",
    "- Review aspects of the dataset\n",
    "- Identify unecessary columns\n",
    "- Check for missing data"
   ],
   "cell_type": "markdown",
   "metadata": {}
  },
  {
   "cell_type": "code",
   "execution_count": 3,
   "metadata": {},
   "outputs": [
    {
     "output_type": "stream",
     "name": "stdout",
     "text": [
      "(189550, 39)\n",
      "Index(['OBJECTID', 'FOD_ID', 'FPA_ID', 'SOURCE_SYSTEM_TYPE', 'SOURCE_SYSTEM',\n",
      "       'NWCG_REPORTING_AGENCY', 'NWCG_REPORTING_UNIT_ID',\n",
      "       'NWCG_REPORTING_UNIT_NAME', 'SOURCE_REPORTING_UNIT',\n",
      "       'SOURCE_REPORTING_UNIT_NAME', 'LOCAL_FIRE_REPORT_ID',\n",
      "       'LOCAL_INCIDENT_ID', 'FIRE_CODE', 'FIRE_NAME',\n",
      "       'ICS_209_INCIDENT_NUMBER', 'ICS_209_NAME', 'MTBS_ID', 'MTBS_FIRE_NAME',\n",
      "       'COMPLEX_NAME', 'FIRE_YEAR', 'DISCOVERY_DATE', 'DISCOVERY_DOY',\n",
      "       'DISCOVERY_TIME', 'STAT_CAUSE_CODE', 'STAT_CAUSE_DESCR', 'CONT_DATE',\n",
      "       'CONT_DOY', 'CONT_TIME', 'FIRE_SIZE', 'FIRE_SIZE_CLASS', 'LATITUDE',\n",
      "       'LONGITUDE', 'OWNER_CODE', 'OWNER_DESCR', 'STATE', 'COUNTY',\n",
      "       'FIPS_CODE', 'FIPS_NAME', 'Shape'],\n",
      "      dtype='object')\n",
      "OBJECTID                           0\n",
      "FOD_ID                             0\n",
      "FPA_ID                             0\n",
      "SOURCE_SYSTEM_TYPE                 0\n",
      "SOURCE_SYSTEM                      0\n",
      "NWCG_REPORTING_AGENCY              0\n",
      "NWCG_REPORTING_UNIT_ID             0\n",
      "NWCG_REPORTING_UNIT_NAME           0\n",
      "SOURCE_REPORTING_UNIT              0\n",
      "SOURCE_REPORTING_UNIT_NAME         0\n",
      "LOCAL_FIRE_REPORT_ID          127617\n",
      "LOCAL_INCIDENT_ID              61567\n",
      "FIRE_CODE                     134017\n",
      "FIRE_NAME                      14993\n",
      "ICS_209_INCIDENT_NUMBER       186712\n",
      "ICS_209_NAME                  186712\n",
      "MTBS_ID                       188413\n",
      "MTBS_FIRE_NAME                188413\n",
      "COMPLEX_NAME                  188623\n",
      "FIRE_YEAR                          0\n",
      "DISCOVERY_DATE                     0\n",
      "DISCOVERY_DOY                      0\n",
      "DISCOVERY_TIME                 79333\n",
      "STAT_CAUSE_CODE                    0\n",
      "STAT_CAUSE_DESCR                   0\n",
      "CONT_DATE                      97642\n",
      "CONT_DOY                       97642\n",
      "CONT_TIME                      98333\n",
      "FIRE_SIZE                          0\n",
      "FIRE_SIZE_CLASS                    0\n",
      "LATITUDE                           0\n",
      "LONGITUDE                          0\n",
      "OWNER_CODE                         0\n",
      "OWNER_DESCR                        0\n",
      "STATE                              0\n",
      "COUNTY                        133329\n",
      "FIPS_CODE                     133329\n",
      "FIPS_NAME                     133329\n",
      "Shape                              0\n",
      "dtype: int64\n"
     ]
    }
   ],
   "source": [
    "print(fires.shape)\n",
    "print(fires.columns)\n",
    "print(fires.isnull().sum())"
   ]
  },
  {
   "source": [
    "## Clean The Data\n",
    "- Drop columns that are mostly empty and ones we don't need for analysis\n",
    "- Create datetime and month column for future analysis"
   ],
   "cell_type": "markdown",
   "metadata": {}
  },
  {
   "cell_type": "code",
   "execution_count": 4,
   "metadata": {},
   "outputs": [
    {
     "output_type": "execute_result",
     "data": {
      "text/plain": [
       "   OBJECTID  FIRE_YEAR  DISCOVERY_DATE  DISCOVERY_DOY STAT_CAUSE_DESCR  \\\n",
       "0         1       2005       2453403.5             33    Miscellaneous   \n",
       "1         2       2004       2453137.5            133        Lightning   \n",
       "2         3       2004       2453156.5            152   Debris Burning   \n",
       "3         4       2004       2453184.5            180        Lightning   \n",
       "4         5       2004       2453184.5            180        Lightning   \n",
       "\n",
       "   FIRE_SIZE FIRE_SIZE_CLASS   LATITUDE   LONGITUDE  \n",
       "0       0.10               A  40.036944 -121.005833  \n",
       "1       0.25               A  38.933056 -120.404444  \n",
       "2       0.10               A  38.984167 -120.735556  \n",
       "3       0.10               A  38.559167 -119.913333  \n",
       "4       0.10               A  38.559167 -119.933056  "
      ],
      "text/html": "<div>\n<style scoped>\n    .dataframe tbody tr th:only-of-type {\n        vertical-align: middle;\n    }\n\n    .dataframe tbody tr th {\n        vertical-align: top;\n    }\n\n    .dataframe thead th {\n        text-align: right;\n    }\n</style>\n<table border=\"1\" class=\"dataframe\">\n  <thead>\n    <tr style=\"text-align: right;\">\n      <th></th>\n      <th>OBJECTID</th>\n      <th>FIRE_YEAR</th>\n      <th>DISCOVERY_DATE</th>\n      <th>DISCOVERY_DOY</th>\n      <th>STAT_CAUSE_DESCR</th>\n      <th>FIRE_SIZE</th>\n      <th>FIRE_SIZE_CLASS</th>\n      <th>LATITUDE</th>\n      <th>LONGITUDE</th>\n    </tr>\n  </thead>\n  <tbody>\n    <tr>\n      <th>0</th>\n      <td>1</td>\n      <td>2005</td>\n      <td>2453403.5</td>\n      <td>33</td>\n      <td>Miscellaneous</td>\n      <td>0.10</td>\n      <td>A</td>\n      <td>40.036944</td>\n      <td>-121.005833</td>\n    </tr>\n    <tr>\n      <th>1</th>\n      <td>2</td>\n      <td>2004</td>\n      <td>2453137.5</td>\n      <td>133</td>\n      <td>Lightning</td>\n      <td>0.25</td>\n      <td>A</td>\n      <td>38.933056</td>\n      <td>-120.404444</td>\n    </tr>\n    <tr>\n      <th>2</th>\n      <td>3</td>\n      <td>2004</td>\n      <td>2453156.5</td>\n      <td>152</td>\n      <td>Debris Burning</td>\n      <td>0.10</td>\n      <td>A</td>\n      <td>38.984167</td>\n      <td>-120.735556</td>\n    </tr>\n    <tr>\n      <th>3</th>\n      <td>4</td>\n      <td>2004</td>\n      <td>2453184.5</td>\n      <td>180</td>\n      <td>Lightning</td>\n      <td>0.10</td>\n      <td>A</td>\n      <td>38.559167</td>\n      <td>-119.913333</td>\n    </tr>\n    <tr>\n      <th>4</th>\n      <td>5</td>\n      <td>2004</td>\n      <td>2453184.5</td>\n      <td>180</td>\n      <td>Lightning</td>\n      <td>0.10</td>\n      <td>A</td>\n      <td>38.559167</td>\n      <td>-119.933056</td>\n    </tr>\n  </tbody>\n</table>\n</div>"
     },
     "metadata": {},
     "execution_count": 4
    }
   ],
   "source": [
    "cols = ['LOCAL_FIRE_REPORT_ID', 'LOCAL_INCIDENT_ID', 'FIRE_CODE',\n",
    "        'FIRE_NAME', 'ICS_209_INCIDENT_NUMBER', 'ICS_209_NAME',\n",
    "        'MTBS_ID', 'MTBS_FIRE_NAME', 'COMPLEX_NAME', 'DISCOVERY_TIME', 'STAT_CAUSE_CODE',\n",
    "        'CONT_DATE', 'CONT_DOY', 'CONT_TIME', 'FOD_ID', 'FPA_ID', 'SOURCE_SYSTEM_TYPE',\n",
    "        'SOURCE_SYSTEM', 'NWCG_REPORTING_AGENCY', 'NWCG_REPORTING_UNIT_ID',\n",
    "        'NWCG_REPORTING_UNIT_NAME', 'SOURCE_REPORTING_UNIT', 'SOURCE_REPORTING_UNIT_NAME',\n",
    "        'OWNER_CODE', 'OWNER_DESCR', 'Shape', 'STATE', 'COUNTY',\n",
    "        'FIPS_CODE', 'FIPS_NAME'\n",
    "        ]\n",
    "        \n",
    "fires = fires.drop(columns=cols, axis=1)\n",
    "fires.head(5)"
   ]
  },
  {
   "source": [
    "- Create DATETIME column in YYYY-MM-DD format"
   ],
   "cell_type": "markdown",
   "metadata": {}
  },
  {
   "cell_type": "code",
   "execution_count": 5,
   "metadata": {},
   "outputs": [
    {
     "output_type": "execute_result",
     "data": {
      "text/plain": [
       "   OBJECTID  FIRE_YEAR STAT_CAUSE_DESCR  FIRE_SIZE FIRE_SIZE_CLASS   LATITUDE  \\\n",
       "0         1       2005    Miscellaneous       0.10               A  40.036944   \n",
       "1         2       2004        Lightning       0.25               A  38.933056   \n",
       "2         3       2004   Debris Burning       0.10               A  38.984167   \n",
       "3         4       2004        Lightning       0.10               A  38.559167   \n",
       "4         5       2004        Lightning       0.10               A  38.559167   \n",
       "\n",
       "    LONGITUDE   DATETIME     MONTH  \n",
       "0 -121.005833 2005-02-02  February  \n",
       "1 -120.404444 2004-05-12       May  \n",
       "2 -120.735556 2004-05-31       May  \n",
       "3 -119.913333 2004-06-28      June  \n",
       "4 -119.933056 2004-06-28      June  "
      ],
      "text/html": "<div>\n<style scoped>\n    .dataframe tbody tr th:only-of-type {\n        vertical-align: middle;\n    }\n\n    .dataframe tbody tr th {\n        vertical-align: top;\n    }\n\n    .dataframe thead th {\n        text-align: right;\n    }\n</style>\n<table border=\"1\" class=\"dataframe\">\n  <thead>\n    <tr style=\"text-align: right;\">\n      <th></th>\n      <th>OBJECTID</th>\n      <th>FIRE_YEAR</th>\n      <th>STAT_CAUSE_DESCR</th>\n      <th>FIRE_SIZE</th>\n      <th>FIRE_SIZE_CLASS</th>\n      <th>LATITUDE</th>\n      <th>LONGITUDE</th>\n      <th>DATETIME</th>\n      <th>MONTH</th>\n    </tr>\n  </thead>\n  <tbody>\n    <tr>\n      <th>0</th>\n      <td>1</td>\n      <td>2005</td>\n      <td>Miscellaneous</td>\n      <td>0.10</td>\n      <td>A</td>\n      <td>40.036944</td>\n      <td>-121.005833</td>\n      <td>2005-02-02</td>\n      <td>February</td>\n    </tr>\n    <tr>\n      <th>1</th>\n      <td>2</td>\n      <td>2004</td>\n      <td>Lightning</td>\n      <td>0.25</td>\n      <td>A</td>\n      <td>38.933056</td>\n      <td>-120.404444</td>\n      <td>2004-05-12</td>\n      <td>May</td>\n    </tr>\n    <tr>\n      <th>2</th>\n      <td>3</td>\n      <td>2004</td>\n      <td>Debris Burning</td>\n      <td>0.10</td>\n      <td>A</td>\n      <td>38.984167</td>\n      <td>-120.735556</td>\n      <td>2004-05-31</td>\n      <td>May</td>\n    </tr>\n    <tr>\n      <th>3</th>\n      <td>4</td>\n      <td>2004</td>\n      <td>Lightning</td>\n      <td>0.10</td>\n      <td>A</td>\n      <td>38.559167</td>\n      <td>-119.913333</td>\n      <td>2004-06-28</td>\n      <td>June</td>\n    </tr>\n    <tr>\n      <th>4</th>\n      <td>5</td>\n      <td>2004</td>\n      <td>Lightning</td>\n      <td>0.10</td>\n      <td>A</td>\n      <td>38.559167</td>\n      <td>-119.933056</td>\n      <td>2004-06-28</td>\n      <td>June</td>\n    </tr>\n  </tbody>\n</table>\n</div>"
     },
     "metadata": {},
     "execution_count": 5
    }
   ],
   "source": [
    "dts = []\n",
    "for index, row in fires.iterrows():\n",
    "  dts.append(dt.datetime.strptime(str(row['FIRE_YEAR']) + \"-\" + str(row['DISCOVERY_DOY']), \"%Y-%j\").strftime(\"%m-%d-%Y\"))\n",
    "\n",
    "fires['DATETIME'] = dts\n",
    "fires.DATETIME = pd.to_datetime(fires.DATETIME)\n",
    "fires = fires.drop(columns=['DISCOVERY_DATE', 'DISCOVERY_DOY'], axis=1)\n",
    "fires['MONTH'] = fires['DATETIME'].dt.month_name()\n",
    "fires.head(5)"
   ]
  },
  {
   "source": [
    "## Assign FIPS Codes\n",
    "- The fires dataset is missing a lot of FIPS code values\n",
    "- Use US Census block groups to assign the missing values, download [here](http://www2.census.gov/geo/tiger/TIGER2020/BG/tl_2020_06_bg.zip)"
   ],
   "cell_type": "markdown",
   "metadata": {}
  },
  {
   "source": [
    "- Import the US Census block groups for California\n",
    "- Create County FIPS column to be assigned to the fires dataset"
   ],
   "cell_type": "markdown",
   "metadata": {}
  },
  {
   "cell_type": "code",
   "execution_count": 6,
   "metadata": {},
   "outputs": [
    {
     "output_type": "execute_result",
     "data": {
      "text/plain": [
       "  STATEFP COUNTYFP TRACTCE BLKGRPCE         GEOID       NAMELSAD  MTFCC  \\\n",
       "0      06      053  001500        1  060530015001  Block Group 1  G5030   \n",
       "1      06      073  002712        2  060730027122  Block Group 2  G5030   \n",
       "2      06      073  018601        2  060730186012  Block Group 2  G5030   \n",
       "3      06      073  018609        3  060730186093  Block Group 3  G5030   \n",
       "4      06      073  019406        3  060730194063  Block Group 3  G5030   \n",
       "\n",
       "  FUNCSTAT    ALAND  AWATER     INTPTLAT      INTPTLON  \\\n",
       "0        S  3348560       0  +36.6564570  -121.6749086   \n",
       "1        S   337744       0  +32.7303521  -117.0787620   \n",
       "2        S   886725       0  +33.2295683  -117.3482855   \n",
       "3        S   379311       0  +33.2495250  -117.3148675   \n",
       "4        S   649440       0  +33.2018708  -117.2686502   \n",
       "\n",
       "                                            geometry STCT_FIPS  \n",
       "0  POLYGON ((-121.69184 36.65885, -121.68510 36.6...     06053  \n",
       "1  POLYGON ((-117.08306 32.72588, -117.08280 32.7...     06073  \n",
       "2  POLYGON ((-117.35296 33.22489, -117.35294 33.2...     06073  \n",
       "3  POLYGON ((-117.31819 33.25084, -117.31819 33.2...     06073  \n",
       "4  POLYGON ((-117.27370 33.19762, -117.27367 33.1...     06073  "
      ],
      "text/html": "<div>\n<style scoped>\n    .dataframe tbody tr th:only-of-type {\n        vertical-align: middle;\n    }\n\n    .dataframe tbody tr th {\n        vertical-align: top;\n    }\n\n    .dataframe thead th {\n        text-align: right;\n    }\n</style>\n<table border=\"1\" class=\"dataframe\">\n  <thead>\n    <tr style=\"text-align: right;\">\n      <th></th>\n      <th>STATEFP</th>\n      <th>COUNTYFP</th>\n      <th>TRACTCE</th>\n      <th>BLKGRPCE</th>\n      <th>GEOID</th>\n      <th>NAMELSAD</th>\n      <th>MTFCC</th>\n      <th>FUNCSTAT</th>\n      <th>ALAND</th>\n      <th>AWATER</th>\n      <th>INTPTLAT</th>\n      <th>INTPTLON</th>\n      <th>geometry</th>\n      <th>STCT_FIPS</th>\n    </tr>\n  </thead>\n  <tbody>\n    <tr>\n      <th>0</th>\n      <td>06</td>\n      <td>053</td>\n      <td>001500</td>\n      <td>1</td>\n      <td>060530015001</td>\n      <td>Block Group 1</td>\n      <td>G5030</td>\n      <td>S</td>\n      <td>3348560</td>\n      <td>0</td>\n      <td>+36.6564570</td>\n      <td>-121.6749086</td>\n      <td>POLYGON ((-121.69184 36.65885, -121.68510 36.6...</td>\n      <td>06053</td>\n    </tr>\n    <tr>\n      <th>1</th>\n      <td>06</td>\n      <td>073</td>\n      <td>002712</td>\n      <td>2</td>\n      <td>060730027122</td>\n      <td>Block Group 2</td>\n      <td>G5030</td>\n      <td>S</td>\n      <td>337744</td>\n      <td>0</td>\n      <td>+32.7303521</td>\n      <td>-117.0787620</td>\n      <td>POLYGON ((-117.08306 32.72588, -117.08280 32.7...</td>\n      <td>06073</td>\n    </tr>\n    <tr>\n      <th>2</th>\n      <td>06</td>\n      <td>073</td>\n      <td>018601</td>\n      <td>2</td>\n      <td>060730186012</td>\n      <td>Block Group 2</td>\n      <td>G5030</td>\n      <td>S</td>\n      <td>886725</td>\n      <td>0</td>\n      <td>+33.2295683</td>\n      <td>-117.3482855</td>\n      <td>POLYGON ((-117.35296 33.22489, -117.35294 33.2...</td>\n      <td>06073</td>\n    </tr>\n    <tr>\n      <th>3</th>\n      <td>06</td>\n      <td>073</td>\n      <td>018609</td>\n      <td>3</td>\n      <td>060730186093</td>\n      <td>Block Group 3</td>\n      <td>G5030</td>\n      <td>S</td>\n      <td>379311</td>\n      <td>0</td>\n      <td>+33.2495250</td>\n      <td>-117.3148675</td>\n      <td>POLYGON ((-117.31819 33.25084, -117.31819 33.2...</td>\n      <td>06073</td>\n    </tr>\n    <tr>\n      <th>4</th>\n      <td>06</td>\n      <td>073</td>\n      <td>019406</td>\n      <td>3</td>\n      <td>060730194063</td>\n      <td>Block Group 3</td>\n      <td>G5030</td>\n      <td>S</td>\n      <td>649440</td>\n      <td>0</td>\n      <td>+33.2018708</td>\n      <td>-117.2686502</td>\n      <td>POLYGON ((-117.27370 33.19762, -117.27367 33.1...</td>\n      <td>06073</td>\n    </tr>\n  </tbody>\n</table>\n</div>"
     },
     "metadata": {},
     "execution_count": 6
    }
   ],
   "source": [
    "block_groups = gpd.read_file(\"tl_2020_06_bg/tl_2020_06_bg.shp\").to_crs(epsg=4326)\n",
    "block_groups['STCT_FIPS'] = block_groups['STATEFP']+block_groups['COUNTYFP']\n",
    "block_groups.head(5)"
   ]
  },
  {
   "source": [
    "- Create point geometry from the fires dataset\n",
    "- Join the block groups values to the fires based on fire point location"
   ],
   "cell_type": "markdown",
   "metadata": {}
  },
  {
   "cell_type": "code",
   "execution_count": 7,
   "metadata": {},
   "outputs": [],
   "source": [
    "fires_points = gpd.GeoDataFrame(fires, geometry=gpd.points_from_xy(fires.LONGITUDE, fires.LATITUDE))\n",
    "fires_points.crs = {'init': 'epsg:4326', 'no_defs': True}\n",
    "\n",
    "block_groups = block_groups[['GEOID','STCT_FIPS','geometry']]\n",
    "fires_block = gpd.sjoin(fires_points, block_groups, how=\"inner\", op='intersects')"
   ]
  },
  {
   "cell_type": "code",
   "execution_count": 8,
   "metadata": {},
   "outputs": [
    {
     "output_type": "execute_result",
     "data": {
      "text/plain": [
       "      OBJECTID  FIRE_YEAR STAT_CAUSE_DESCR  FIRE_SIZE FIRE_SIZE_CLASS  \\\n",
       "0            1       2005    Miscellaneous       0.10               A   \n",
       "169       1446       2005    Miscellaneous       0.10               A   \n",
       "184       1793       2005    Miscellaneous       0.10               A   \n",
       "1058      8127       2006        Lightning       0.20               A   \n",
       "1099      8356       2006        Lightning       0.25               A   \n",
       "\n",
       "       LATITUDE   LONGITUDE   DATETIME     MONTH                     geometry  \\\n",
       "0     40.036944 -121.005833 2005-02-02  February  POINT (-121.00583 40.03694)   \n",
       "169   40.004722 -121.260556 2005-08-24    August  POINT (-121.26056 40.00472)   \n",
       "184   40.093056 -120.910000 2005-08-25    August  POINT (-120.91000 40.09306)   \n",
       "1058  40.035833 -121.020278 2006-06-14      June  POINT (-121.02028 40.03583)   \n",
       "1099  40.104167 -120.861667 2006-06-26      June  POINT (-120.86167 40.10417)   \n",
       "\n",
       "      index_right         GEOID STCT_FIPS  \n",
       "0           16901  060630004002     06063  \n",
       "169         16901  060630004002     06063  \n",
       "184         16901  060630004002     06063  \n",
       "1058        16901  060630004002     06063  \n",
       "1099        16901  060630004002     06063  "
      ],
      "text/html": "<div>\n<style scoped>\n    .dataframe tbody tr th:only-of-type {\n        vertical-align: middle;\n    }\n\n    .dataframe tbody tr th {\n        vertical-align: top;\n    }\n\n    .dataframe thead th {\n        text-align: right;\n    }\n</style>\n<table border=\"1\" class=\"dataframe\">\n  <thead>\n    <tr style=\"text-align: right;\">\n      <th></th>\n      <th>OBJECTID</th>\n      <th>FIRE_YEAR</th>\n      <th>STAT_CAUSE_DESCR</th>\n      <th>FIRE_SIZE</th>\n      <th>FIRE_SIZE_CLASS</th>\n      <th>LATITUDE</th>\n      <th>LONGITUDE</th>\n      <th>DATETIME</th>\n      <th>MONTH</th>\n      <th>geometry</th>\n      <th>index_right</th>\n      <th>GEOID</th>\n      <th>STCT_FIPS</th>\n    </tr>\n  </thead>\n  <tbody>\n    <tr>\n      <th>0</th>\n      <td>1</td>\n      <td>2005</td>\n      <td>Miscellaneous</td>\n      <td>0.10</td>\n      <td>A</td>\n      <td>40.036944</td>\n      <td>-121.005833</td>\n      <td>2005-02-02</td>\n      <td>February</td>\n      <td>POINT (-121.00583 40.03694)</td>\n      <td>16901</td>\n      <td>060630004002</td>\n      <td>06063</td>\n    </tr>\n    <tr>\n      <th>169</th>\n      <td>1446</td>\n      <td>2005</td>\n      <td>Miscellaneous</td>\n      <td>0.10</td>\n      <td>A</td>\n      <td>40.004722</td>\n      <td>-121.260556</td>\n      <td>2005-08-24</td>\n      <td>August</td>\n      <td>POINT (-121.26056 40.00472)</td>\n      <td>16901</td>\n      <td>060630004002</td>\n      <td>06063</td>\n    </tr>\n    <tr>\n      <th>184</th>\n      <td>1793</td>\n      <td>2005</td>\n      <td>Miscellaneous</td>\n      <td>0.10</td>\n      <td>A</td>\n      <td>40.093056</td>\n      <td>-120.910000</td>\n      <td>2005-08-25</td>\n      <td>August</td>\n      <td>POINT (-120.91000 40.09306)</td>\n      <td>16901</td>\n      <td>060630004002</td>\n      <td>06063</td>\n    </tr>\n    <tr>\n      <th>1058</th>\n      <td>8127</td>\n      <td>2006</td>\n      <td>Lightning</td>\n      <td>0.20</td>\n      <td>A</td>\n      <td>40.035833</td>\n      <td>-121.020278</td>\n      <td>2006-06-14</td>\n      <td>June</td>\n      <td>POINT (-121.02028 40.03583)</td>\n      <td>16901</td>\n      <td>060630004002</td>\n      <td>06063</td>\n    </tr>\n    <tr>\n      <th>1099</th>\n      <td>8356</td>\n      <td>2006</td>\n      <td>Lightning</td>\n      <td>0.25</td>\n      <td>A</td>\n      <td>40.104167</td>\n      <td>-120.861667</td>\n      <td>2006-06-26</td>\n      <td>June</td>\n      <td>POINT (-120.86167 40.10417)</td>\n      <td>16901</td>\n      <td>060630004002</td>\n      <td>06063</td>\n    </tr>\n  </tbody>\n</table>\n</div>"
     },
     "metadata": {},
     "execution_count": 8
    }
   ],
   "source": [
    "fires_block.head(5)"
   ]
  },
  {
   "source": [
    "## Export the Final Dataset\n",
    "- Decide the final format\n",
    "- Confirm there is no missing data\n",
    "- export to csv"
   ],
   "cell_type": "markdown",
   "metadata": {}
  },
  {
   "cell_type": "code",
   "execution_count": 9,
   "metadata": {},
   "outputs": [
    {
     "output_type": "execute_result",
     "data": {
      "text/plain": [
       "      OBJECTID  FIRE_YEAR STAT_CAUSE_DESCR  FIRE_SIZE FIRE_SIZE_CLASS  \\\n",
       "0            1       2005    Miscellaneous       0.10               A   \n",
       "169       1446       2005    Miscellaneous       0.10               A   \n",
       "184       1793       2005    Miscellaneous       0.10               A   \n",
       "1058      8127       2006        Lightning       0.20               A   \n",
       "1099      8356       2006        Lightning       0.25               A   \n",
       "\n",
       "       LATITUDE   LONGITUDE         GEOID STCT_FIPS   DATETIME     MONTH  \n",
       "0     40.036944 -121.005833  060630004002     06063 2005-02-02  February  \n",
       "169   40.004722 -121.260556  060630004002     06063 2005-08-24    August  \n",
       "184   40.093056 -120.910000  060630004002     06063 2005-08-25    August  \n",
       "1058  40.035833 -121.020278  060630004002     06063 2006-06-14      June  \n",
       "1099  40.104167 -120.861667  060630004002     06063 2006-06-26      June  "
      ],
      "text/html": "<div>\n<style scoped>\n    .dataframe tbody tr th:only-of-type {\n        vertical-align: middle;\n    }\n\n    .dataframe tbody tr th {\n        vertical-align: top;\n    }\n\n    .dataframe thead th {\n        text-align: right;\n    }\n</style>\n<table border=\"1\" class=\"dataframe\">\n  <thead>\n    <tr style=\"text-align: right;\">\n      <th></th>\n      <th>OBJECTID</th>\n      <th>FIRE_YEAR</th>\n      <th>STAT_CAUSE_DESCR</th>\n      <th>FIRE_SIZE</th>\n      <th>FIRE_SIZE_CLASS</th>\n      <th>LATITUDE</th>\n      <th>LONGITUDE</th>\n      <th>GEOID</th>\n      <th>STCT_FIPS</th>\n      <th>DATETIME</th>\n      <th>MONTH</th>\n    </tr>\n  </thead>\n  <tbody>\n    <tr>\n      <th>0</th>\n      <td>1</td>\n      <td>2005</td>\n      <td>Miscellaneous</td>\n      <td>0.10</td>\n      <td>A</td>\n      <td>40.036944</td>\n      <td>-121.005833</td>\n      <td>060630004002</td>\n      <td>06063</td>\n      <td>2005-02-02</td>\n      <td>February</td>\n    </tr>\n    <tr>\n      <th>169</th>\n      <td>1446</td>\n      <td>2005</td>\n      <td>Miscellaneous</td>\n      <td>0.10</td>\n      <td>A</td>\n      <td>40.004722</td>\n      <td>-121.260556</td>\n      <td>060630004002</td>\n      <td>06063</td>\n      <td>2005-08-24</td>\n      <td>August</td>\n    </tr>\n    <tr>\n      <th>184</th>\n      <td>1793</td>\n      <td>2005</td>\n      <td>Miscellaneous</td>\n      <td>0.10</td>\n      <td>A</td>\n      <td>40.093056</td>\n      <td>-120.910000</td>\n      <td>060630004002</td>\n      <td>06063</td>\n      <td>2005-08-25</td>\n      <td>August</td>\n    </tr>\n    <tr>\n      <th>1058</th>\n      <td>8127</td>\n      <td>2006</td>\n      <td>Lightning</td>\n      <td>0.20</td>\n      <td>A</td>\n      <td>40.035833</td>\n      <td>-121.020278</td>\n      <td>060630004002</td>\n      <td>06063</td>\n      <td>2006-06-14</td>\n      <td>June</td>\n    </tr>\n    <tr>\n      <th>1099</th>\n      <td>8356</td>\n      <td>2006</td>\n      <td>Lightning</td>\n      <td>0.25</td>\n      <td>A</td>\n      <td>40.104167</td>\n      <td>-120.861667</td>\n      <td>060630004002</td>\n      <td>06063</td>\n      <td>2006-06-26</td>\n      <td>June</td>\n    </tr>\n  </tbody>\n</table>\n</div>"
     },
     "metadata": {},
     "execution_count": 9
    }
   ],
   "source": [
    "cols = ['OBJECTID','FIRE_YEAR','STAT_CAUSE_DESCR','FIRE_SIZE','FIRE_SIZE_CLASS','LATITUDE','LONGITUDE','GEOID','STCT_FIPS','DATETIME','MONTH']\n",
    "final_fires_cleaned = fires_block[cols]\n",
    "final_fires_cleaned.head(5)"
   ]
  },
  {
   "cell_type": "code",
   "execution_count": 10,
   "metadata": {},
   "outputs": [
    {
     "output_type": "execute_result",
     "data": {
      "text/plain": [
       "OBJECTID            0\n",
       "FIRE_YEAR           0\n",
       "STAT_CAUSE_DESCR    0\n",
       "FIRE_SIZE           0\n",
       "FIRE_SIZE_CLASS     0\n",
       "LATITUDE            0\n",
       "LONGITUDE           0\n",
       "GEOID               0\n",
       "STCT_FIPS           0\n",
       "DATETIME            0\n",
       "MONTH               0\n",
       "dtype: int64"
      ]
     },
     "metadata": {},
     "execution_count": 10
    }
   ],
   "source": [
    "final_fires_cleaned.isnull().sum()"
   ]
  },
  {
   "cell_type": "code",
   "execution_count": 11,
   "metadata": {},
   "outputs": [],
   "source": [
    "final_fires_cleaned.to_csv('final_fires_cleaned.csv')"
   ]
  }
 ]
}