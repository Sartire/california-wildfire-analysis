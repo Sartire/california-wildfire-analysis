{
 "cells": [
  {
   "cell_type": "code",
   "execution_count": 1,
   "metadata": {},
   "outputs": [],
   "source": [
    "import pandas as pd\n",
    "import numpy as np\n",
    "import os\n",
    "from itertools import product\n",
    "import datetime"
   ]
  },
  {
   "source": [
    "## Import The Precipation Data\n",
    "- Import all CSVs, download [here]()\n",
    "- Check for missing data\n",
    "- Drop flagged rows and keep useful columns\n",
    "- Aggregate total precipation by Station and Day, export"
   ],
   "cell_type": "markdown",
   "metadata": {}
  },
  {
   "cell_type": "code",
   "execution_count": 2,
   "metadata": {},
   "outputs": [
    {
     "output_type": "stream",
     "name": "stderr",
     "text": [
      "C:\\Users\\cschr\\Anaconda3\\envs\\pythonenv\\lib\\site-packages\\IPython\\core\\interactiveshell.py:3146: DtypeWarning: Columns (2,3,4) have mixed types.Specify dtype option on import or set low_memory=False.\n  interactivity=interactivity, compiler=compiler, result=result)\n"
     ]
    }
   ],
   "source": [
    "## Empty val for measurement flags\n",
    "## indicates no problem with data\n",
    "def drop_flags(obj):\n",
    "    return str(obj) == ' '\n",
    "\n",
    "## Process one at a time for memory concerns\n",
    "files = os.listdir('../data/precip_raw')\n",
    "for file in files:\n",
    "    df = pd.read_csv('../data/precip_raw/' + file)\n",
    "    # convert/extract date information\n",
    "    df['pdate'] = pd.to_datetime( list(map(str,df['DATE'])), format = '%Y%m%d %H:%M')\n",
    "    df['year'] = df['pdate'].dt.year\n",
    "    df['month'] = df['pdate'].dt.month\n",
    "    df['day'] = df['pdate'].dt.day\n",
    "    \n",
    "    # drop flagged rows\n",
    "    df = df[list(map(drop_flags, df['Measurement Flag']))]\n",
    "    # keep useful columns\n",
    "    df = df[['STATION', 'LATITUDE', 'LONGITUDE', 'HPCP', 'year', 'month', 'day']]\n",
    "    #aggregate to station-day total precipitation\n",
    "    agg = df.groupby(['STATION','LATITUDE','LONGITUDE','year','month','day']).sum()\n",
    "    #output\n",
    "    agg.to_csv('../data/precip_agg/' + file)"
   ]
  },
  {
   "source": [
    "## Clean the Aggregate Data\n",
    "- Concatenate aggregate files to single dataframe\n",
    "- Export unique Station locations to CSV\n",
    "- "
   ],
   "cell_type": "markdown",
   "metadata": {}
  },
  {
   "cell_type": "code",
   "execution_count": 3,
   "metadata": {},
   "outputs": [
    {
     "output_type": "execute_result",
     "data": {
      "text/plain": [
       "(195843, 7)"
      ]
     },
     "metadata": {},
     "execution_count": 3
    }
   ],
   "source": [
    "# Load aggregates.\n",
    "files = os.listdir('../data/precip_agg')\n",
    "df = pd.DataFrame()\n",
    "for file in files:\n",
    "    current_data = pd.read_csv(\"../data/precip_agg/\"+file)\n",
    "    df = pd.concat([df, current_data])\n",
    "df.shape\n"
   ]
  },
  {
   "source": [
    "## Clean the Aggregate Data\n",
    "- Drop duplicate measurements by STATION\n",
    "- Export to CSV of station and coordinates\n",
    "- Set datetime column"
   ],
   "cell_type": "markdown",
   "metadata": {}
  },
  {
   "cell_type": "code",
   "execution_count": 4,
   "metadata": {},
   "outputs": [],
   "source": [
    "## get distinct stations\n",
    "stations = df[['STATION','LATITUDE','LONGITUDE']].drop_duplicates('STATION')\n",
    "#print(stations.shape)\n",
    "#stations.head()\n",
    "\n",
    "## export for FIPS codes to be attached\n",
    "stations.to_csv('../data/station_coords.csv')"
   ]
  },
  {
   "cell_type": "code",
   "execution_count": 5,
   "metadata": {},
   "outputs": [],
   "source": [
    "dates = pd.date_range('1992-01-01', '2014-01-01')\n",
    "prod = product(stations['STATION'], dates)\n",
    "timeframe = pd.DataFrame([list(p) for p in prod],\n",
    "                        columns = ['STATION', 'date'])"
   ]
  },
  {
   "cell_type": "code",
   "execution_count": 6,
   "metadata": {},
   "outputs": [],
   "source": [
    "dtvec = np.vectorize(datetime.datetime)\n",
    "df['date'] = pd.to_datetime(dtvec(df.year, df.month, df.day))"
   ]
  },
  {
   "cell_type": "code",
   "execution_count": 7,
   "metadata": {},
   "outputs": [],
   "source": [
    "compleat = pd.merge(df, timeframe, on = ['STATION', 'date'], how = 'outer')\n",
    "compleat = compleat.sort_values(['STATION','date'])\n",
    "compleat['HPCP'] = compleat['HPCP'].fillna(0)\n",
    "compleat = compleat[['STATION', 'date', 'HPCP']]"
   ]
  },
  {
   "source": [
    "## Assign FIPS Codes\n",
    "- Import CSV of station FIPS codes\n",
    "- Merge to add FIPS codes\n",
    "- Aggregate sum and mean by FIPS and day"
   ],
   "cell_type": "markdown",
   "metadata": {}
  },
  {
   "cell_type": "code",
   "execution_count": 8,
   "metadata": {},
   "outputs": [
    {
     "output_type": "execute_result",
     "data": {
      "text/plain": [
       "       STATION  STCT_FIPS\n",
       "0  COOP:040014       6037\n",
       "1  COOP:040161       6049\n",
       "2  COOP:040212       6055\n",
       "3  COOP:040322       6053\n",
       "4  COOP:040368       6055"
      ],
      "text/html": "<div>\n<style scoped>\n    .dataframe tbody tr th:only-of-type {\n        vertical-align: middle;\n    }\n\n    .dataframe tbody tr th {\n        vertical-align: top;\n    }\n\n    .dataframe thead th {\n        text-align: right;\n    }\n</style>\n<table border=\"1\" class=\"dataframe\">\n  <thead>\n    <tr style=\"text-align: right;\">\n      <th></th>\n      <th>STATION</th>\n      <th>STCT_FIPS</th>\n    </tr>\n  </thead>\n  <tbody>\n    <tr>\n      <th>0</th>\n      <td>COOP:040014</td>\n      <td>6037</td>\n    </tr>\n    <tr>\n      <th>1</th>\n      <td>COOP:040161</td>\n      <td>6049</td>\n    </tr>\n    <tr>\n      <th>2</th>\n      <td>COOP:040212</td>\n      <td>6055</td>\n    </tr>\n    <tr>\n      <th>3</th>\n      <td>COOP:040322</td>\n      <td>6053</td>\n    </tr>\n    <tr>\n      <th>4</th>\n      <td>COOP:040368</td>\n      <td>6055</td>\n    </tr>\n  </tbody>\n</table>\n</div>"
     },
     "metadata": {},
     "execution_count": 8
    }
   ],
   "source": [
    "geo_stations = pd.read_csv('../data/stations_block.csv')\n",
    "geo_stations = geo_stations[['STATION', 'STCT_FIPS']]\n",
    "geo_stations.head()"
   ]
  },
  {
   "cell_type": "code",
   "execution_count": 24,
   "metadata": {},
   "outputs": [
    {
     "output_type": "execute_result",
     "data": {
      "text/plain": [
       "                      station_sum  station_mean\n",
       "STCT_FIPS date                                 \n",
       "6115      2013-12-23          0.0           0.0\n",
       "          2013-12-24          0.0           0.0\n",
       "          2013-12-25          0.0           0.0\n",
       "          2013-12-26          0.0           0.0\n",
       "          2013-12-27          0.0           0.0\n",
       "          2013-12-28          0.0           0.0\n",
       "          2013-12-29          0.0           0.0\n",
       "          2013-12-30          0.0           0.0\n",
       "          2013-12-31          0.0           0.0\n",
       "          2014-01-01          0.0           0.0"
      ],
      "text/html": "<div>\n<style scoped>\n    .dataframe tbody tr th:only-of-type {\n        vertical-align: middle;\n    }\n\n    .dataframe tbody tr th {\n        vertical-align: top;\n    }\n\n    .dataframe thead th {\n        text-align: right;\n    }\n</style>\n<table border=\"1\" class=\"dataframe\">\n  <thead>\n    <tr style=\"text-align: right;\">\n      <th></th>\n      <th></th>\n      <th>station_sum</th>\n      <th>station_mean</th>\n    </tr>\n    <tr>\n      <th>STCT_FIPS</th>\n      <th>date</th>\n      <th></th>\n      <th></th>\n    </tr>\n  </thead>\n  <tbody>\n    <tr>\n      <th rowspan=\"10\" valign=\"top\">6115</th>\n      <th>2013-12-23</th>\n      <td>0.0</td>\n      <td>0.0</td>\n    </tr>\n    <tr>\n      <th>2013-12-24</th>\n      <td>0.0</td>\n      <td>0.0</td>\n    </tr>\n    <tr>\n      <th>2013-12-25</th>\n      <td>0.0</td>\n      <td>0.0</td>\n    </tr>\n    <tr>\n      <th>2013-12-26</th>\n      <td>0.0</td>\n      <td>0.0</td>\n    </tr>\n    <tr>\n      <th>2013-12-27</th>\n      <td>0.0</td>\n      <td>0.0</td>\n    </tr>\n    <tr>\n      <th>2013-12-28</th>\n      <td>0.0</td>\n      <td>0.0</td>\n    </tr>\n    <tr>\n      <th>2013-12-29</th>\n      <td>0.0</td>\n      <td>0.0</td>\n    </tr>\n    <tr>\n      <th>2013-12-30</th>\n      <td>0.0</td>\n      <td>0.0</td>\n    </tr>\n    <tr>\n      <th>2013-12-31</th>\n      <td>0.0</td>\n      <td>0.0</td>\n    </tr>\n    <tr>\n      <th>2014-01-01</th>\n      <td>0.0</td>\n      <td>0.0</td>\n    </tr>\n  </tbody>\n</table>\n</div>"
     },
     "metadata": {},
     "execution_count": 24
    }
   ],
   "source": [
    "## Merge with FIPS codes and aggregate to FIPS-day\n",
    "\n",
    "byfips = pd.merge(compleat, geo_stations, on = 'STATION', how = 'left')\n",
    "\n",
    "# consider both sum and mean of all stations in FIPS\n",
    "agg_series = byfips.groupby(['STCT_FIPS', 'date']).sum().rename(columns={'HPCP':'station_sum'})\n",
    "agg_series['station_mean'] = byfips.groupby(['STCT_FIPS', 'date']).mean()['HPCP']\n",
    "\n",
    "agg_series.tail(10)"
   ]
  },
  {
   "source": [
    "## Rolling Time Series\n",
    "- Create 30-day rolling sum of precipitation by FIPS code\n",
    "- Set individual year, month, day columns\n",
    "- Export final precipitation dataset"
   ],
   "cell_type": "markdown",
   "metadata": {}
  },
  {
   "cell_type": "code",
   "execution_count": 25,
   "metadata": {},
   "outputs": [
    {
     "output_type": "execute_result",
     "data": {
      "text/plain": [
       "                date  station_sum  station_mean  past30_ss_sum  past30_sm_sum  \\\n",
       "STCT_FIPS                                                                       \n",
       "6115      2013-12-23          0.0           0.0           1.57         0.3925   \n",
       "6115      2013-12-24          0.0           0.0           1.57         0.3925   \n",
       "6115      2013-12-25          0.0           0.0           1.57         0.3925   \n",
       "6115      2013-12-26          0.0           0.0           1.57         0.3925   \n",
       "6115      2013-12-27          0.0           0.0           1.57         0.3925   \n",
       "6115      2013-12-28          0.0           0.0           1.57         0.3925   \n",
       "6115      2013-12-29          0.0           0.0           1.57         0.3925   \n",
       "6115      2013-12-30          0.0           0.0           1.57         0.3925   \n",
       "6115      2013-12-31          0.0           0.0           1.47         0.3675   \n",
       "6115      2014-01-01          0.0           0.0           1.47         0.3675   \n",
       "\n",
       "           year  month  day  \n",
       "STCT_FIPS                    \n",
       "6115       2013     12   23  \n",
       "6115       2013     12   24  \n",
       "6115       2013     12   25  \n",
       "6115       2013     12   26  \n",
       "6115       2013     12   27  \n",
       "6115       2013     12   28  \n",
       "6115       2013     12   29  \n",
       "6115       2013     12   30  \n",
       "6115       2013     12   31  \n",
       "6115       2014      1    1  "
      ],
      "text/html": "<div>\n<style scoped>\n    .dataframe tbody tr th:only-of-type {\n        vertical-align: middle;\n    }\n\n    .dataframe tbody tr th {\n        vertical-align: top;\n    }\n\n    .dataframe thead th {\n        text-align: right;\n    }\n</style>\n<table border=\"1\" class=\"dataframe\">\n  <thead>\n    <tr style=\"text-align: right;\">\n      <th></th>\n      <th>date</th>\n      <th>station_sum</th>\n      <th>station_mean</th>\n      <th>past30_ss_sum</th>\n      <th>past30_sm_sum</th>\n      <th>year</th>\n      <th>month</th>\n      <th>day</th>\n    </tr>\n    <tr>\n      <th>STCT_FIPS</th>\n      <th></th>\n      <th></th>\n      <th></th>\n      <th></th>\n      <th></th>\n      <th></th>\n      <th></th>\n      <th></th>\n    </tr>\n  </thead>\n  <tbody>\n    <tr>\n      <th>6115</th>\n      <td>2013-12-23</td>\n      <td>0.0</td>\n      <td>0.0</td>\n      <td>1.57</td>\n      <td>0.3925</td>\n      <td>2013</td>\n      <td>12</td>\n      <td>23</td>\n    </tr>\n    <tr>\n      <th>6115</th>\n      <td>2013-12-24</td>\n      <td>0.0</td>\n      <td>0.0</td>\n      <td>1.57</td>\n      <td>0.3925</td>\n      <td>2013</td>\n      <td>12</td>\n      <td>24</td>\n    </tr>\n    <tr>\n      <th>6115</th>\n      <td>2013-12-25</td>\n      <td>0.0</td>\n      <td>0.0</td>\n      <td>1.57</td>\n      <td>0.3925</td>\n      <td>2013</td>\n      <td>12</td>\n      <td>25</td>\n    </tr>\n    <tr>\n      <th>6115</th>\n      <td>2013-12-26</td>\n      <td>0.0</td>\n      <td>0.0</td>\n      <td>1.57</td>\n      <td>0.3925</td>\n      <td>2013</td>\n      <td>12</td>\n      <td>26</td>\n    </tr>\n    <tr>\n      <th>6115</th>\n      <td>2013-12-27</td>\n      <td>0.0</td>\n      <td>0.0</td>\n      <td>1.57</td>\n      <td>0.3925</td>\n      <td>2013</td>\n      <td>12</td>\n      <td>27</td>\n    </tr>\n    <tr>\n      <th>6115</th>\n      <td>2013-12-28</td>\n      <td>0.0</td>\n      <td>0.0</td>\n      <td>1.57</td>\n      <td>0.3925</td>\n      <td>2013</td>\n      <td>12</td>\n      <td>28</td>\n    </tr>\n    <tr>\n      <th>6115</th>\n      <td>2013-12-29</td>\n      <td>0.0</td>\n      <td>0.0</td>\n      <td>1.57</td>\n      <td>0.3925</td>\n      <td>2013</td>\n      <td>12</td>\n      <td>29</td>\n    </tr>\n    <tr>\n      <th>6115</th>\n      <td>2013-12-30</td>\n      <td>0.0</td>\n      <td>0.0</td>\n      <td>1.57</td>\n      <td>0.3925</td>\n      <td>2013</td>\n      <td>12</td>\n      <td>30</td>\n    </tr>\n    <tr>\n      <th>6115</th>\n      <td>2013-12-31</td>\n      <td>0.0</td>\n      <td>0.0</td>\n      <td>1.47</td>\n      <td>0.3675</td>\n      <td>2013</td>\n      <td>12</td>\n      <td>31</td>\n    </tr>\n    <tr>\n      <th>6115</th>\n      <td>2014-01-01</td>\n      <td>0.0</td>\n      <td>0.0</td>\n      <td>1.47</td>\n      <td>0.3675</td>\n      <td>2014</td>\n      <td>1</td>\n      <td>1</td>\n    </tr>\n  </tbody>\n</table>\n</div>"
     },
     "metadata": {},
     "execution_count": 25
    }
   ],
   "source": [
    "agg_series['past30_ss_sum'] = agg_series['station_sum'].rolling(30).sum()\n",
    "agg_series['past30_sm_sum'] = agg_series['station_mean'].rolling(30).sum()\n",
    "\n",
    "agg_series.reset_index('date', inplace = True)\n",
    "\n",
    "agg_series['year'] = agg_series['date'].dt.year\n",
    "agg_series['month'] = agg_series['date'].dt.month\n",
    "agg_series['day'] = agg_series['date'].dt.day\n",
    "\n",
    "agg_series.tail(10)"
   ]
  },
  {
   "cell_type": "code",
   "execution_count": 78,
   "metadata": {},
   "outputs": [],
   "source": [
    "agg_series.to_csv('../data/precip_agg_series.csv')"
   ]
  }
 ],
 "metadata": {
  "kernelspec": {
   "name": "python379jvsc74a57bd01efdb9bcbd5d57a1534fada5d52178944b1c1f992f2550b0c1c534ebb8f09268",
   "display_name": "Python 3.7.9 64-bit ('pythonenv': conda)"
  },
  "language_info": {
   "codemirror_mode": {
    "name": "ipython",
    "version": 3
   },
   "file_extension": ".py",
   "mimetype": "text/x-python",
   "name": "python",
   "nbconvert_exporter": "python",
   "pygments_lexer": "ipython3",
   "version": "3.7.9"
  }
 },
 "nbformat": 4,
 "nbformat_minor": 4
}